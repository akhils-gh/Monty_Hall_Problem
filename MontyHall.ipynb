{
 "cells": [
  {
   "cell_type": "code",
   "execution_count": 4,
   "metadata": {
    "collapsed": false
   },
   "outputs": [],
   "source": [
    "import numpy as np\n",
    "import pandas as pd\n",
    "import scipy as sp\n"
   ]
  },
  {
   "cell_type": "markdown",
   "metadata": {},
   "source": [
    "## Monty Hall Probelm"
   ]
  },
  {
   "cell_type": "code",
   "execution_count": 102,
   "metadata": {
    "collapsed": false
   },
   "outputs": [],
   "source": [
    "# Function to generate prizedoor for 'nsim' number of trials\n",
    "def simulate_prizedoor(nsim):\n",
    "    return np.random.randint(0,3, nsim)\n",
    "\n",
    "# Function to generate random guess for a user\n",
    "def simulate_guess(nsim):\n",
    "    return np.random.randint(0,3, nsim)\n",
    "\n",
    "# Function to show 'goat door' to user\n",
    "def goat_door(prizedoors, guesses):\n",
    "    gt_door = []\n",
    "    for item in range(len(guesses)):\n",
    "        original_choices = [0,1,2]\n",
    "        if guesses[item] == prizedoors[item]:\n",
    "            original_choices.remove(guesses[item])\n",
    "        else :\n",
    "            original_choices.remove(guesses[item])\n",
    "            original_choices.remove(prizedoors[item])\n",
    "        gt_door.append(np.random.choice(original_choices))\n",
    "    return gt_door\n",
    "\n",
    "# Function to switch choice after goat door is opened for user\n",
    "def switch_guess(guesses, goatdoors):\n",
    "    switched_choice = []\n",
    "    for index, item in enumerate(guesses):\n",
    "        original_choices = [0,1,2]\n",
    "        original_choices.remove(item)\n",
    "        original_choices.remove(goatdoors[index])\n",
    "        switched_choice.append(np.random.choice(original_choices))\n",
    "    return switched_choice\n",
    "\n",
    "# Checking cumilative win percentage\n",
    "def win_percentage(guesses, prizedoors):\n",
    "    return np.sum(np.equal(guesses, prizedoors))*100/float(len(guesses))\n",
    "\n",
    "# Function for simulating situation when user does not swich choice after goat-door is opened\n",
    "def no_switch_simulation(x):\n",
    "    prizedoors = simulate_prizedoor(x)\n",
    "    guesses = simulate_guess(x)\n",
    "    print win_percentage(guesses, prizedoors)\n",
    "\n",
    "# Function for simulating situation when user does swich choice after goat-door is opened\n",
    "def switch_simulation(x):\n",
    "    prizedoors = simulate_prizedoor(x)\n",
    "    guesses = simulate_guess(x)\n",
    "    goatdoors = goat_door(prizedoors, guesses)\n",
    "    switchedguesses = switch_guess(guesses, goatdoors)\n",
    "    print win_percentage(switchedguesses, prizedoors)"
   ]
  },
  {
   "cell_type": "code",
   "execution_count": 110,
   "metadata": {
    "collapsed": false
   },
   "outputs": [
    {
     "name": "stdout",
     "output_type": "stream",
     "text": [
      "33.06\n"
     ]
    }
   ],
   "source": [
    "# Running simulation for not switching choice after goat door is opened\n",
    "no_switch_simulation(10000)"
   ]
  },
  {
   "cell_type": "code",
   "execution_count": 112,
   "metadata": {
    "collapsed": false
   },
   "outputs": [
    {
     "name": "stdout",
     "output_type": "stream",
     "text": [
      "67.28\n"
     ]
    }
   ],
   "source": [
    "# Running simulation for switching choice after goat door is opened\n",
    "switch_simulation(10000)"
   ]
  }
 ],
 "metadata": {
  "anaconda-cloud": {},
  "kernelspec": {
   "display_name": "Python [conda root]",
   "language": "python",
   "name": "conda-root-py"
  },
  "language_info": {
   "codemirror_mode": {
    "name": "ipython",
    "version": 2
   },
   "file_extension": ".py",
   "mimetype": "text/x-python",
   "name": "python",
   "nbconvert_exporter": "python",
   "pygments_lexer": "ipython2",
   "version": "2.7.12"
  }
 },
 "nbformat": 4,
 "nbformat_minor": 1
}
